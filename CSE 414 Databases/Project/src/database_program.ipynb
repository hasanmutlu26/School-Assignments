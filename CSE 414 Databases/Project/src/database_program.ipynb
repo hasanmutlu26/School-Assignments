{
 "cells": [
  {
   "cell_type": "code",
   "execution_count": 54,
   "metadata": {},
   "outputs": [],
   "source": [
    "import pymysql\n",
    "\n",
    "connection = pymysql.connect(host='localhost',\n",
    "                             user='root',\n",
    "                             password='hasan123',\n",
    "                             db='onlineshopping',\n",
    "                             charset='utf8mb4',\n",
    "                             cursorclass=pymysql.cursors.DictCursor)\n",
    "\n",
    "cursor = connection.cursor()\n"
   ]
  },
  {
   "attachments": {},
   "cell_type": "markdown",
   "metadata": {},
   "source": [
    "CUSTOMER TABLE"
   ]
  },
  {
   "cell_type": "code",
   "execution_count": 55,
   "metadata": {},
   "outputs": [
    {
     "name": "stdout",
     "output_type": "stream",
     "text": [
      "[20001, 'Jim', 'Brundle', '1234567890', 'Jim.Brundle@example.com']\n",
      "[20002, 'Jane', 'Smith', '9876543210', 'jane.smith@example.com']\n",
      "[20003, 'Michael', 'Jimson', '5555555555', 'michael.Jimson@example.com']\n",
      "[20004, 'Emily', 'Davis', '9999999999', 'emily.davis@example.com']\n",
      "[20005, 'Daniel', 'Watson', '1111111111', 'daniel.Watson@example.com']\n",
      "[20006, 'Sarah', 'Brown', '2222222222', 'sarah.brown@example.com']\n",
      "[20007, 'Matthew', 'Taylor', '3333333333', 'matthew.taylor@example.com']\n",
      "[20008, 'Olivia', 'Anderson', '4444444444', 'olivia.anderson@example.com']\n",
      "[20009, 'Andrew', 'Clark', '5555555555', 'andrew.clark@example.com']\n",
      "[20010, 'Sophia', 'Lewis', '6666666666', 'sophia.lewis@example.com']\n"
     ]
    }
   ],
   "source": [
    "cursor.execute(\"SELECT * FROM customer\")\n",
    "data = cursor.fetchall()\n",
    "for row in data:\n",
    "    row_data = list(row.values())\n",
    "    print(row_data)"
   ]
  },
  {
   "attachments": {},
   "cell_type": "markdown",
   "metadata": {},
   "source": [
    "EMPLOYEE TABLE"
   ]
  },
  {
   "cell_type": "code",
   "execution_count": 56,
   "metadata": {},
   "outputs": [
    {
     "name": "stdout",
     "output_type": "stream",
     "text": [
      "[40001, 'Jim', 'Smith']\n",
      "[40002, 'Alice', 'Jimson']\n",
      "[40003, 'David', 'Brown']\n",
      "[40004, 'Emma', 'Watson']\n",
      "[40005, 'James', 'Thompson']\n",
      "[40006, 'Sophie', 'Lee']\n",
      "[40007, 'Jacob', 'Harris']\n",
      "[40008, 'Ava', 'Martin']\n",
      "[40009, 'Benjamin', 'Walker']\n",
      "[40010, 'Lily', 'Turner']\n"
     ]
    }
   ],
   "source": [
    "cursor.execute(\"SELECT * FROM employee\")\n",
    "data = cursor.fetchall()\n",
    "for row in data:\n",
    "    row_data = list(row.values())\n",
    "    print(row_data)"
   ]
  },
  {
   "attachments": {},
   "cell_type": "markdown",
   "metadata": {},
   "source": [
    "PERSON TABLE"
   ]
  },
  {
   "cell_type": "code",
   "execution_count": 57,
   "metadata": {},
   "outputs": [
    {
     "name": "stdout",
     "output_type": "stream",
     "text": [
      "[20001, 'Jim', 'Brundle']\n",
      "[20002, 'Jane', 'Smith']\n",
      "[20003, 'Michael', 'Jimson']\n",
      "[20004, 'Emily', 'Davis']\n",
      "[20005, 'Daniel', 'Watson']\n",
      "[20006, 'Sarah', 'Brown']\n",
      "[20007, 'Matthew', 'Taylor']\n",
      "[20008, 'Olivia', 'Anderson']\n",
      "[20009, 'Andrew', 'Clark']\n",
      "[20010, 'Sophia', 'Lewis']\n",
      "[40001, 'Jim', 'Smith']\n",
      "[40002, 'Alice', 'Jimson']\n",
      "[40003, 'David', 'Brown']\n",
      "[40004, 'Emma', 'Watson']\n",
      "[40005, 'James', 'Thompson']\n",
      "[40006, 'Sophie', 'Lee']\n",
      "[40007, 'Jacob', 'Harris']\n",
      "[40008, 'Ava', 'Martin']\n",
      "[40009, 'Benjamin', 'Walker']\n",
      "[40010, 'Lily', 'Turner']\n"
     ]
    }
   ],
   "source": [
    "cursor.execute(\"SELECT * FROM person\")\n",
    "data = cursor.fetchall()\n",
    "for row in data:\n",
    "    row_data = list(row.values())\n",
    "    print(row_data)"
   ]
  },
  {
   "attachments": {},
   "cell_type": "markdown",
   "metadata": {},
   "source": [
    "PRODUCTS"
   ]
  },
  {
   "cell_type": "code",
   "execution_count": 58,
   "metadata": {},
   "outputs": [
    {
     "name": "stdout",
     "output_type": "stream",
     "text": [
      "[60001, 'T-Shirt', 'Comfortable cotton t-shirt with a classic fit.', Decimal('10.99'), Decimal('4.50')]\n",
      "[60002, 'Jeans', 'High-quality denim jeans with a straight leg cut.', Decimal('15.99'), Decimal('3.80')]\n",
      "[60003, 'Sweatshirt', 'Cozy sweatshirt made of soft fleece material.', Decimal('8.99'), Decimal('4.20')]\n",
      "[60004, 'Dress', 'Elegant knee-length dress with a floral pattern.', Decimal('12.99'), Decimal('4.70')]\n",
      "[60005, 'Sneakers', 'Stylish sneakers with a cushioned sole for extra comfort.', Decimal('9.99'), Decimal('3.50')]\n",
      "[60006, 'Jacket', 'Lightweight jacket suitable for cool weather.', Decimal('11.99'), Decimal('4.10')]\n",
      "[60007, 'Skirt', 'Versatile skirt that can be dressed up or down.', Decimal('14.99'), Decimal('4.90')]\n",
      "[60008, 'Shorts', 'Casual shorts made of breathable fabric.', Decimal('7.99'), Decimal('3.20')]\n",
      "[60009, 'Blouse', 'Fashionable blouse with a flattering silhouette.', Decimal('10.99'), None]\n",
      "[60010, 'Polo Shirt', 'Classic polo shirt for a polished casual look.', Decimal('13.99'), Decimal('4.45')]\n"
     ]
    }
   ],
   "source": [
    "cursor.execute(\"SELECT * FROM product\")\n",
    "data = cursor.fetchall()\n",
    "for row in data:\n",
    "    row_data = list(row.values())\n",
    "    print(row_data)"
   ]
  },
  {
   "attachments": {},
   "cell_type": "markdown",
   "metadata": {},
   "source": [
    "INSERT NEW REVİEW ON A NON-ORDERED PRODUCT"
   ]
  },
  {
   "cell_type": "code",
   "execution_count": 59,
   "metadata": {},
   "outputs": [
    {
     "name": "stdout",
     "output_type": "stream",
     "text": [
      "(1644, 'You can only place a review for products you have ordered.')\n"
     ]
    }
   ],
   "source": [
    "str = \"INSERT INTO reviews (review_ID, customer_ID, product_id, review_rating, review_description, review_date) \\\n",
    "VALUES (80001, 20007, 60001, 4.5, 'This is a great product!', '2023-06-20 10:30:00');\"\n",
    "\n",
    "try:\n",
    "    cursor.execute(str)\n",
    "\n",
    "except Exception as e:\n",
    "    print(e)"
   ]
  },
  {
   "attachments": {},
   "cell_type": "markdown",
   "metadata": {},
   "source": [
    "INSERT REVİEW ON A PRODUCT AND SEE UPDATED RATING"
   ]
  },
  {
   "cell_type": "code",
   "execution_count": 60,
   "metadata": {},
   "outputs": [
    {
     "name": "stdout",
     "output_type": "stream",
     "text": [
      "Before review:\n",
      "['T-Shirt', Decimal('4.50')]\n",
      "Give a bad review.\n",
      "After bad review:\n",
      "['T-Shirt', Decimal('2.75')]\n"
     ]
    }
   ],
   "source": [
    "cursor.execute(\"SELECT product_name, product_rating FROM product WHERE product_id = 60001\")\n",
    "data = cursor.fetchall()\n",
    "print(\"Before review:\")\n",
    "for row in data:\n",
    "    row_data = list(row.values())\n",
    "    print(row_data)\n",
    "\n",
    "str = \"INSERT INTO reviews (customer_ID, product_id, review_rating, review_description, review_date) VALUES (20001, 60001, 1.0, 'This is a terrible product!', '2023-06-20 10:30:00')\"\n",
    "\n",
    "print(\"Give a bad review.\")\n",
    "try:\n",
    "    cursor.execute(str)\n",
    "    connection.commit()\n",
    "\n",
    "except Exception as e:\n",
    "    print(e)\n",
    "\n",
    "print(\"After bad review:\")\n",
    "cursor.execute(\"SELECT product_name, product_rating FROM product WHERE product_id = 60001\")\n",
    "data = cursor.fetchall()\n",
    "for row in data:\n",
    "    row_data = list(row.values())\n",
    "    print(row_data)"
   ]
  },
  {
   "attachments": {},
   "cell_type": "markdown",
   "metadata": {},
   "source": [
    "DELETE THE LAST REVIEW"
   ]
  },
  {
   "cell_type": "code",
   "execution_count": 61,
   "metadata": {},
   "outputs": [
    {
     "name": "stdout",
     "output_type": "stream",
     "text": [
      "Before delete:\n",
      "['T-Shirt', Decimal('2.75')]\n",
      "After delete:\n",
      "['T-Shirt', Decimal('2.75')]\n"
     ]
    }
   ],
   "source": [
    "cursor.execute(\"SELECT product_name, product_rating FROM product WHERE product_id = 60001\")\n",
    "data = cursor.fetchall()\n",
    "print(\"Before delete:\")\n",
    "for row in data:\n",
    "    row_data = list(row.values())\n",
    "    print(row_data)\n",
    "\n",
    "str = \"DELETE FROM reviews WHERE review_rating = 1.0\"\n",
    "\n",
    "try:\n",
    "    cursor.execute(str)\n",
    "    connection.commit()\n",
    "\n",
    "except Exception as e:\n",
    "    print(e)\n",
    "\n",
    "print(\"After delete:\")\n",
    "cursor.execute(\"SELECT product_name, product_rating FROM product WHERE product_id = 60001\")\n",
    "data = cursor.fetchall()\n",
    "for row in data:\n",
    "    row_data = list(row.values())\n",
    "    print(row_data)"
   ]
  },
  {
   "attachments": {},
   "cell_type": "markdown",
   "metadata": {},
   "source": [
    "DISPLAY ORDER CONTENTS\n"
   ]
  },
  {
   "cell_type": "code",
   "execution_count": 62,
   "metadata": {},
   "outputs": [
    {
     "name": "stdout",
     "output_type": "stream",
     "text": [
      "[50001, 'T-Shirt', 2, Decimal('10.99')]\n",
      "[50001, 'Jeans', 1, Decimal('15.99')]\n",
      "[50002, 'Sweatshirt', 3, Decimal('8.99')]\n",
      "[50002, 'Dress', 1, Decimal('12.99')]\n",
      "[50003, 'Sneakers', 2, Decimal('9.99')]\n",
      "[50003, 'Jacket', 1, Decimal('11.99')]\n",
      "[50004, 'Skirt', 4, Decimal('14.99')]\n",
      "[50004, 'Shorts', 2, Decimal('7.99')]\n",
      "[50005, 'Blouse', 3, Decimal('10.99')]\n",
      "[50005, 'Polo Shirt', 1, Decimal('13.99')]\n"
     ]
    }
   ],
   "source": [
    "str = \"SELECT * FROM product_order_view\"\n",
    "\n",
    "try:\n",
    "    cursor.execute(str)\n",
    "    connection.commit()\n",
    "\n",
    "except Exception as e:\n",
    "    print(e)\n",
    "\n",
    "data = cursor.fetchall()\n",
    "for row in data:\n",
    "    row_data = list(row.values())\n",
    "    print(row_data)"
   ]
  },
  {
   "attachments": {},
   "cell_type": "markdown",
   "metadata": {},
   "source": [
    "CALCULATE TOTAL PRICE OF ORDERS\n"
   ]
  },
  {
   "cell_type": "code",
   "execution_count": 63,
   "metadata": {},
   "outputs": [
    {
     "name": "stdout",
     "output_type": "stream",
     "text": [
      "[50001, Decimal('37.97')]\n",
      "[50002, Decimal('39.96')]\n",
      "[50003, Decimal('31.97')]\n",
      "[50004, Decimal('75.94')]\n",
      "[50005, Decimal('46.96')]\n"
     ]
    }
   ],
   "source": [
    "str = \"SELECT orders_ID, calculate_total_price(orders_ID) AS total_price FROM orders;\"\n",
    "\n",
    "try:\n",
    "    cursor.execute(str)\n",
    "    connection.commit()\n",
    "\n",
    "except Exception as e:\n",
    "    print(e)\n",
    "\n",
    "data = cursor.fetchall()\n",
    "for row in data:\n",
    "    row_data = list(row.values())\n",
    "    print(row_data)"
   ]
  },
  {
   "attachments": {},
   "cell_type": "markdown",
   "metadata": {},
   "source": [
    "CALCULATE THE TOTAL REVENUE OF THE STORE"
   ]
  },
  {
   "cell_type": "code",
   "execution_count": 65,
   "metadata": {},
   "outputs": [
    {
     "name": "stdout",
     "output_type": "stream",
     "text": [
      "[Decimal('232.80')]\n"
     ]
    }
   ],
   "source": [
    "str = \"SELECT calculate_total_revenue();\"\n",
    "try:\n",
    "    cursor.execute(str)\n",
    "    connection.commit()\n",
    "\n",
    "except Exception as e:\n",
    "    print(e)\n",
    "\n",
    "data = cursor.fetchall()\n",
    "for row in data:\n",
    "    row_data = list(row.values())\n",
    "    print(row_data)"
   ]
  },
  {
   "attachments": {},
   "cell_type": "markdown",
   "metadata": {},
   "source": [
    "SEE DELIVERY STATUS OF ORDERS"
   ]
  },
  {
   "cell_type": "code",
   "execution_count": 64,
   "metadata": {},
   "outputs": [
    {
     "name": "stdout",
     "output_type": "stream",
     "text": [
      "[60001, 100001, 'Store', datetime.datetime(2023, 6, 20, 10, 30)]\n",
      "[60002, 100001, 'Store', datetime.datetime(2023, 6, 20, 10, 30)]\n",
      "[60003, 100002, 'Washington Station', datetime.datetime(2023, 6, 21, 12, 45)]\n",
      "[60004, 100002, 'Washington Station', datetime.datetime(2023, 6, 21, 12, 45)]\n",
      "[60005, 100003, 'Finished', datetime.datetime(2023, 6, 22, 15, 20)]\n",
      "[60006, 100003, 'Finished', datetime.datetime(2023, 6, 22, 15, 20)]\n",
      "[60007, 100004, 'Store', datetime.datetime(2023, 6, 23, 14, 10)]\n",
      "[60008, 100004, 'Store', datetime.datetime(2023, 6, 23, 14, 10)]\n",
      "[60009, 100005, 'Texas Station', datetime.datetime(2023, 6, 24, 16, 35)]\n",
      "[60010, 100005, 'Texas Station', datetime.datetime(2023, 6, 24, 16, 35)]\n"
     ]
    }
   ],
   "source": [
    "str = \"SELECT * FROM product_delivery_status;\"\n",
    "\n",
    "try:\n",
    "    cursor.execute(str)\n",
    "    connection.commit()\n",
    "\n",
    "except Exception as e:\n",
    "    print(e)\n",
    "\n",
    "data = cursor.fetchall()\n",
    "for row in data:\n",
    "    row_data = list(row.values())\n",
    "    print(row_data)"
   ]
  }
 ],
 "metadata": {
  "kernelspec": {
   "display_name": "Python 3",
   "language": "python",
   "name": "python3"
  },
  "language_info": {
   "codemirror_mode": {
    "name": "ipython",
    "version": 3
   },
   "file_extension": ".py",
   "mimetype": "text/x-python",
   "name": "python",
   "nbconvert_exporter": "python",
   "pygments_lexer": "ipython3",
   "version": "3.11.4"
  },
  "orig_nbformat": 4
 },
 "nbformat": 4,
 "nbformat_minor": 2
}
